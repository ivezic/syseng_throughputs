{
 "cells": [
  {
   "cell_type": "code",
   "execution_count": 1,
   "metadata": {
    "collapsed": true
   },
   "outputs": [],
   "source": [
    "import numpy as np\n",
    "import matplotlib.pyplot as plt\n",
    "%matplotlib inline\n",
    "import lsst.sims.photUtils as photUtils"
   ]
  },
  {
   "cell_type": "code",
   "execution_count": 2,
   "metadata": {
    "collapsed": true
   },
   "outputs": [],
   "source": [
    "import bandpassUtils as bu\n",
    "import calcM5 as m5"
   ]
  },
  {
   "cell_type": "code",
   "execution_count": 3,
   "metadata": {},
   "outputs": [],
   "source": [
    "defaultDirs = bu.setDefaultDirs()\n",
    "addLosses = True\n",
    "atmosphere = bu.readAtmosphere(defaultDirs['atmosphere'], atmosFile='atmos_10_aerosol.dat')\n",
    "hardware, system = bu.buildHardwareAndSystem(defaultDirs, addLosses, atmosphereOverride=atmosphere)\n",
    "atmosphere12 = bu.readAtmosphere(defaultDirs['atmosphere'], atmosFile='pachonModtranAtm_12_aerosol.dat')\n",
    "hardware2, system2 = bu.buildHardwareAndSystem(defaultDirs, addLosses, atmosphereOverride=atmosphere12)"
   ]
  },
  {
   "cell_type": "code",
   "execution_count": 4,
   "metadata": {},
   "outputs": [],
   "source": [
    "eff_wavelen = m5.get_effwavelens(system)"
   ]
  },
  {
   "cell_type": "code",
   "execution_count": 5,
   "metadata": {},
   "outputs": [
    {
     "name": "stdout",
     "output_type": "stream",
     "text": [
      "35.9 µs ± 359 ns per loop (mean ± std. dev. of 7 runs, 10000 loops each)\n"
     ]
    }
   ],
   "source": [
    "%%timeit\n",
    "for airmass in (1.0, 1.1, 1.2):\n",
    "    fwhm_eff, fwhm_geom = m5.scale_seeing(0.6, eff_wavelen, airmass=airmass)"
   ]
  },
  {
   "cell_type": "code",
   "execution_count": 6,
   "metadata": {},
   "outputs": [
    {
     "name": "stdout",
     "output_type": "stream",
     "text": [
      "22 µs ± 83.6 ns per loop (mean ± std. dev. of 7 runs, 10000 loops each)\n"
     ]
    }
   ],
   "source": [
    "%%timeit\n",
    "airmass = np.array([1.0, 1.1, 1.2])\n",
    "fwhm_eff, fwhm_geom = m5.scale_seeing(0.6, eff_wavelen, airmass)"
   ]
  },
  {
   "cell_type": "code",
   "execution_count": 5,
   "metadata": {},
   "outputs": [
    {
     "name": "stdout",
     "output_type": "stream",
     "text": [
      "X=1.0, each filter [ 0.93  0.87  0.83  0.8   0.78  0.76]\n",
      "0.92 0.87 0.83 0.8 0.78 0.76\n",
      "g band, all airmasses [ 0.87463518  0.92610996  0.97574355]\n"
     ]
    }
   ],
   "source": [
    "airmass = np.array([1.0, 1.1, 1.2])\n",
    "fwhm_eff, fwhm_geom = m5.scale_seeing(0.62, eff_wavelen, airmass)\n",
    "print('X=1.0, each filter', np.array2string(fwhm_eff[:,0], precision=2))\n",
    "defaults = photUtils.LSSTdefaults()\n",
    "print(defaults.FWHMeff('u'), defaults.FWHMeff('g'), defaults.FWHMeff('r'), defaults.FWHMeff('i'), \n",
    "      defaults.FWHMeff('z'), defaults.FWHMeff('y'))\n",
    "print('g band, all airmasses', fwhm_eff[1])"
   ]
  },
  {
   "cell_type": "code",
   "execution_count": 6,
   "metadata": {},
   "outputs": [
    {
     "name": "stdout",
     "output_type": "stream",
     "text": [
      "Filter FWHMeff FWHMgeom SkyMag SkyCounts Zp_t Tb Sb kAtm Gamma Cm dCm_infinity m5 SourceCounts\n",
      "u 0.93 0.82 22.95 50.2 26.50 0.022 0.036 0.5041 0.038079 22.74 0.75 23.40 520.63\n",
      "g 0.87 0.77 22.24 387.6 28.30 0.118 0.143 0.2097 0.038724 24.38 0.19 24.76 783.45\n",
      "r 0.83 0.73 21.20 796.2 28.13 0.100 0.113 0.1263 0.038977 24.43 0.10 24.34 977.63\n",
      "i 0.80 0.71 20.47 1108.1 27.79 0.074 0.080 0.0962 0.039075 24.30 0.07 23.90 1081.30\n",
      "z 0.78 0.69 19.60 1687.9 27.40 0.051 0.055 0.0685 0.039211 24.15 0.05 23.34 1267.38\n",
      "y 0.76 0.68 18.63 2140.8 26.58 0.024 0.029 0.1760 0.039277 23.70 0.04 22.43 1383.53\n"
     ]
    }
   ],
   "source": [
    "t2 = m5.calcM5(hardware, system, atmosphere, X=1.0, return_t2_values=True)"
   ]
  },
  {
   "cell_type": "code",
   "execution_count": 7,
   "metadata": {},
   "outputs": [
    {
     "name": "stdout",
     "output_type": "stream",
     "text": [
      "Filter FWHMeff FWHMgeom SkyMag SkyCounts Zp_t Tb Sb kAtm Gamma Cm dCm_infinity m5 SourceCounts\n",
      "u 1.04 0.90 22.95 50.2 26.40 0.021 0.036 0.6033 0.038273 22.76 0.75 23.19 579.20\n",
      "g 0.98 0.85 22.24 387.6 28.26 0.114 0.143 0.2512 0.038854 24.39 0.19 24.60 872.41\n",
      "r 0.92 0.81 21.20 796.2 28.10 0.098 0.113 0.1511 0.039082 24.43 0.10 24.20 1089.12\n",
      "i 0.89 0.78 20.47 1108.1 27.78 0.073 0.080 0.1118 0.039170 24.31 0.07 23.77 1204.82\n",
      "z 0.87 0.76 19.60 1687.9 27.39 0.051 0.055 0.0806 0.039292 24.15 0.05 23.21 1412.44\n",
      "y 0.85 0.75 18.63 2140.8 26.56 0.024 0.029 0.1992 0.039351 23.72 0.04 22.28 1541.91\n"
     ]
    }
   ],
   "source": [
    "t2_12 = m5.calcM5(hardware2, system2, atmosphere12, X=1.2, return_t2_values=True)"
   ]
  },
  {
   "cell_type": "code",
   "execution_count": 31,
   "metadata": {},
   "outputs": [
    {
     "data": {
      "text/plain": [
       "{'g': 0.15834095414404459,\n",
       " 'i': 0.13304235821886223,\n",
       " 'r': 0.14203109058798091,\n",
       " 'u': 0.21490542510367661,\n",
       " 'y': 0.14081488123698449,\n",
       " 'z': 0.1297758290595219}"
      ]
     },
     "execution_count": 31,
     "metadata": {},
     "output_type": "execute_result"
    }
   ],
   "source": [
    "filterlist = ('u', 'g', 'r', 'i', 'z', 'y')\n",
    "t2['dm5_X1.2'] = {}\n",
    "for f in filterlist:\n",
    "    t2['dm5_X1.2'][f] = t2['m5'][f] - t2_12['m5'][f]\n",
    "t2['dm5_X1.2']"
   ]
  },
  {
   "cell_type": "code",
   "execution_count": 32,
   "metadata": {
    "collapsed": true
   },
   "outputs": [],
   "source": [
    "tau = 60.0/30.0\n",
    "t2['dcm_60'] = {}\n",
    "for f in filterlist:\n",
    "    t2['dcm_60'][f] = t2['dCm_infinity'][f] - 1.25 * np.log10(1 + (np.power(10, 0.8*t2['dCm_infinity'][f]) - 1) / (tau))"
   ]
  },
  {
   "cell_type": "code",
   "execution_count": 33,
   "metadata": {},
   "outputs": [],
   "source": [
    "t2['dm_fid'] = {}\n",
    "t2['dm_min'] = {}\n",
    "t2['m5_fid'] = {'u': 23.9, 'g': 25.0, 'r': 24.7, 'i': 24.0, 'z': 23.3, 'y': 22.1}\n",
    "t2['m5_min'] = {'u': 23.4, 'g': 24.6, 'r': 24.3, 'i': 23.6, 'z': 22.9, 'y': 21.7}\n",
    "for f in filterlist:\n",
    "    t2['dm_fid'][f] = t2['m5'][f] - t2['m5_fid'][f]\n",
    "    t2['dm_min'][f] = t2['m5'][f] - t2['m5_min'][f]"
   ]
  },
  {
   "cell_type": "code",
   "execution_count": 50,
   "metadata": {},
   "outputs": [
    {
     "name": "stdout",
     "output_type": "stream",
     "text": [
      "  \t\t& $u$\t& $g$\t & $r$\t& $i$\t& $z$\t& $y$\t \\\\\n",
      "skyMag\t\t& 22.95\t& 22.24\t& 21.20\t& 20.47\t& 19.60\t& 18.63\t \\\\\n",
      "FWHMeff\t\t& 0.93\t& 0.87\t& 0.83\t& 0.80\t& 0.78\t& 0.76\t \\\\\n",
      "gamma\t\t& 0.038\t& 0.039\t& 0.039\t& 0.039\t& 0.039\t& 0.039\t \\\\\n",
      "kAtm\t\t& 0.504\t& 0.210\t& 0.126\t& 0.096\t& 0.068\t& 0.176\t \\\\\n",
      "Cm\t\t& 22.74\t& 24.38\t& 24.43\t& 24.30\t& 24.15\t& 23.70\t \\\\\n",
      "dCm_inf\t\t& 0.75\t& 0.19\t& 0.10\t& 0.07\t& 0.05\t& 0.04\t \\\\\n",
      "dcm_60\t\t& 0.25\t& 0.08\t& 0.05\t& 0.04\t& 0.02\t& 0.02\t \\\\\n",
      "m5\t\t& 23.40\t& 24.76\t& 24.34\t& 23.90\t& 23.34\t& 22.43\t \\\\\n",
      "dm5_X1.2\t\t& 0.21\t& 0.16\t& 0.14\t& 0.13\t& 0.13\t& 0.14\t \\\\\n",
      "m5_fid\t\t& 23.90\t& 25.00\t& 24.70\t& 24.00\t& 23.30\t& 22.10\t \\\\\n",
      "dm_fid\t\t& -0.50\t& -0.24\t& -0.36\t& -0.10\t& 0.04\t& 0.33\t \\\\\n",
      "m5_min\t\t& 23.40\t& 24.60\t& 24.30\t& 23.60\t& 22.90\t& 21.70\t \\\\\n",
      "dm_min\t\t& 0.00\t& 0.16\t& 0.04\t& 0.30\t& 0.44\t& 0.73\t \\\\\n"
     ]
    }
   ],
   "source": [
    "l = ['skyMag', 'FWHMeff', 'gamma', 'kAtm', 'Cm', 'dCm_infinity', 'dcm_60', 'm5', 'dm5_X1.2',  \n",
    "     'm5_fid', 'dm_fid', 'm5_min', 'dm_min']\n",
    "\n",
    "writestring = '  \\t\\t& $u$\\t& $g$\\t & $r$\\t& $i$\\t& $z$\\t& $y$\\t \\\\\\\\'\n",
    "print(writestring)\n",
    "for li in l:\n",
    "    if li == 'dCm_infinity':\n",
    "        writestring = 'dCm_inf' + '\\t\\t& '\n",
    "    else:\n",
    "        writestring = li + '\\t\\t& '\n",
    "    if li == 'gamma' or li == 'kAtm':\n",
    "        mat = '%.3f\\t& '\n",
    "    else:\n",
    "        mat = '%.2f\\t& '\n",
    "    for f in filterlist:\n",
    "        writestring += mat % t2[li][f]\n",
    "    writestring = writestring[:-2] + ' \\\\\\\\'\n",
    "    print(writestring)"
   ]
  },
  {
   "cell_type": "code",
   "execution_count": null,
   "metadata": {
    "collapsed": true
   },
   "outputs": [],
   "source": []
  }
 ],
 "metadata": {
  "kernelspec": {
   "display_name": "Python 3",
   "language": "python",
   "name": "python3"
  },
  "language_info": {
   "codemirror_mode": {
    "name": "ipython",
    "version": 3
   },
   "file_extension": ".py",
   "mimetype": "text/x-python",
   "name": "python",
   "nbconvert_exporter": "python",
   "pygments_lexer": "ipython3",
   "version": "3.6.3"
  }
 },
 "nbformat": 4,
 "nbformat_minor": 2
}
